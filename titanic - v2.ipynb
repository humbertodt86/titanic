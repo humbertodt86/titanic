{
 "cells": [
  {
   "cell_type": "code",
   "execution_count": 1,
   "metadata": {},
   "outputs": [
    {
     "output_type": "stream",
     "name": "stderr",
     "text": "Using TensorFlow backend.\n"
    }
   ],
   "source": [
    "# Importing libraries\n",
    "\n",
    "import pandas as pd    \n",
    "import numpy as np\n",
    "import pandas_profiling\n",
    "import keras\n",
    "from keras.models import Sequential\n",
    "from keras.layers import Dense\n",
    "\n",
    "# Reading data to Dataframes\n",
    "  \n",
    "data_train = pd.read_csv('../titanic/train.csv')\n",
    "data_test = pd.read_csv('../titanic/test.csv')\n",
    "data_check = pd.read_csv('../titanic/TITANIC_REAL_TEST.csv')"
   ]
  },
  {
   "cell_type": "code",
   "execution_count": 2,
   "metadata": {},
   "outputs": [
    {
     "output_type": "execute_result",
     "data": {
      "text/plain": "   PassengerId  Survived  Pclass  \\\n0            1         0       3   \n1            2         1       1   \n2            3         1       3   \n3            4         1       1   \n4            5         0       3   \n\n                                                Name     Sex   Age  SibSp  \\\n0                            Braund, Mr. Owen Harris    male  22.0      1   \n1  Cumings, Mrs. John Bradley (Florence Briggs Th...  female  38.0      1   \n2                             Heikkinen, Miss. Laina  female  26.0      0   \n3       Futrelle, Mrs. Jacques Heath (Lily May Peel)  female  35.0      1   \n4                           Allen, Mr. William Henry    male  35.0      0   \n\n   Parch            Ticket     Fare Cabin Embarked  \n0      0         A/5 21171   7.2500   NaN        S  \n1      0          PC 17599  71.2833   C85        C  \n2      0  STON/O2. 3101282   7.9250   NaN        S  \n3      0            113803  53.1000  C123        S  \n4      0            373450   8.0500   NaN        S  ",
      "text/html": "<div>\n<style scoped>\n    .dataframe tbody tr th:only-of-type {\n        vertical-align: middle;\n    }\n\n    .dataframe tbody tr th {\n        vertical-align: top;\n    }\n\n    .dataframe thead th {\n        text-align: right;\n    }\n</style>\n<table border=\"1\" class=\"dataframe\">\n  <thead>\n    <tr style=\"text-align: right;\">\n      <th></th>\n      <th>PassengerId</th>\n      <th>Survived</th>\n      <th>Pclass</th>\n      <th>Name</th>\n      <th>Sex</th>\n      <th>Age</th>\n      <th>SibSp</th>\n      <th>Parch</th>\n      <th>Ticket</th>\n      <th>Fare</th>\n      <th>Cabin</th>\n      <th>Embarked</th>\n    </tr>\n  </thead>\n  <tbody>\n    <tr>\n      <th>0</th>\n      <td>1</td>\n      <td>0</td>\n      <td>3</td>\n      <td>Braund, Mr. Owen Harris</td>\n      <td>male</td>\n      <td>22.0</td>\n      <td>1</td>\n      <td>0</td>\n      <td>A/5 21171</td>\n      <td>7.2500</td>\n      <td>NaN</td>\n      <td>S</td>\n    </tr>\n    <tr>\n      <th>1</th>\n      <td>2</td>\n      <td>1</td>\n      <td>1</td>\n      <td>Cumings, Mrs. John Bradley (Florence Briggs Th...</td>\n      <td>female</td>\n      <td>38.0</td>\n      <td>1</td>\n      <td>0</td>\n      <td>PC 17599</td>\n      <td>71.2833</td>\n      <td>C85</td>\n      <td>C</td>\n    </tr>\n    <tr>\n      <th>2</th>\n      <td>3</td>\n      <td>1</td>\n      <td>3</td>\n      <td>Heikkinen, Miss. Laina</td>\n      <td>female</td>\n      <td>26.0</td>\n      <td>0</td>\n      <td>0</td>\n      <td>STON/O2. 3101282</td>\n      <td>7.9250</td>\n      <td>NaN</td>\n      <td>S</td>\n    </tr>\n    <tr>\n      <th>3</th>\n      <td>4</td>\n      <td>1</td>\n      <td>1</td>\n      <td>Futrelle, Mrs. Jacques Heath (Lily May Peel)</td>\n      <td>female</td>\n      <td>35.0</td>\n      <td>1</td>\n      <td>0</td>\n      <td>113803</td>\n      <td>53.1000</td>\n      <td>C123</td>\n      <td>S</td>\n    </tr>\n    <tr>\n      <th>4</th>\n      <td>5</td>\n      <td>0</td>\n      <td>3</td>\n      <td>Allen, Mr. William Henry</td>\n      <td>male</td>\n      <td>35.0</td>\n      <td>0</td>\n      <td>0</td>\n      <td>373450</td>\n      <td>8.0500</td>\n      <td>NaN</td>\n      <td>S</td>\n    </tr>\n  </tbody>\n</table>\n</div>"
     },
     "metadata": {},
     "execution_count": 2
    }
   ],
   "source": [
    "data_train.head()\n"
   ]
  },
  {
   "cell_type": "code",
   "execution_count": 3,
   "metadata": {},
   "outputs": [],
   "source": [
    "\n",
    "#preenchendo valores faltantes com a média\n",
    "values = {'Age': data_train.Age.mode()[0]}\n",
    "data_train.fillna(value = values, inplace = True)\n",
    "\n",
    "values = {'Age': data_test.Age.mode()[0]}\n",
    "data_test.fillna(value = values, inplace = True)\n",
    "\n",
    "#mudando o tipo de dado\n",
    "data_train.Sex = data_train.Sex.astype('category')\n",
    "data_train.Age = data_train.Age.astype('int32')\n",
    "\n",
    "data_test.Sex = data_test.Sex.astype('category')\n",
    "data_test.Age = data_test.Age.astype('int32')"
   ]
  },
  {
   "cell_type": "code",
   "execution_count": 4,
   "metadata": {},
   "outputs": [],
   "source": [
    "data_train = data_train.drop(['Name','Ticket','Fare','Cabin','Embarked'],axis =1)\n",
    "\n",
    "data_test = data_test.drop(['Name','Ticket','Fare','Cabin','Embarked'],axis =1)"
   ]
  },
  {
   "cell_type": "code",
   "execution_count": 5,
   "metadata": {},
   "outputs": [],
   "source": [
    "# create dummies for pitching team, batting team, pitcher id, batter id\n",
    "#0 para masculino e 1 para feminino\n",
    "dummies = pd.get_dummies(data_train['Sex'])\n",
    "data_train['Sex'] = dummies\n",
    "\n",
    "\n",
    "dummies = pd.get_dummies(data_test['Sex'])\n",
    "data_test['Sex'] = dummies\n"
   ]
  },
  {
   "cell_type": "code",
   "execution_count": 6,
   "metadata": {},
   "outputs": [
    {
     "output_type": "execute_result",
     "data": {
      "text/plain": "   PassengerId  Survived  Pclass  Sex  Age  SibSp  Parch\n0            1         0       3    0   22      1      0\n1            2         1       1    1   38      1      0\n2            3         1       3    1   26      0      0\n3            4         1       1    1   35      1      0\n4            5         0       3    0   35      0      0",
      "text/html": "<div>\n<style scoped>\n    .dataframe tbody tr th:only-of-type {\n        vertical-align: middle;\n    }\n\n    .dataframe tbody tr th {\n        vertical-align: top;\n    }\n\n    .dataframe thead th {\n        text-align: right;\n    }\n</style>\n<table border=\"1\" class=\"dataframe\">\n  <thead>\n    <tr style=\"text-align: right;\">\n      <th></th>\n      <th>PassengerId</th>\n      <th>Survived</th>\n      <th>Pclass</th>\n      <th>Sex</th>\n      <th>Age</th>\n      <th>SibSp</th>\n      <th>Parch</th>\n    </tr>\n  </thead>\n  <tbody>\n    <tr>\n      <th>0</th>\n      <td>1</td>\n      <td>0</td>\n      <td>3</td>\n      <td>0</td>\n      <td>22</td>\n      <td>1</td>\n      <td>0</td>\n    </tr>\n    <tr>\n      <th>1</th>\n      <td>2</td>\n      <td>1</td>\n      <td>1</td>\n      <td>1</td>\n      <td>38</td>\n      <td>1</td>\n      <td>0</td>\n    </tr>\n    <tr>\n      <th>2</th>\n      <td>3</td>\n      <td>1</td>\n      <td>3</td>\n      <td>1</td>\n      <td>26</td>\n      <td>0</td>\n      <td>0</td>\n    </tr>\n    <tr>\n      <th>3</th>\n      <td>4</td>\n      <td>1</td>\n      <td>1</td>\n      <td>1</td>\n      <td>35</td>\n      <td>1</td>\n      <td>0</td>\n    </tr>\n    <tr>\n      <th>4</th>\n      <td>5</td>\n      <td>0</td>\n      <td>3</td>\n      <td>0</td>\n      <td>35</td>\n      <td>0</td>\n      <td>0</td>\n    </tr>\n  </tbody>\n</table>\n</div>"
     },
     "metadata": {},
     "execution_count": 6
    }
   ],
   "source": [
    "data_train.head()"
   ]
  },
  {
   "cell_type": "code",
   "execution_count": 7,
   "metadata": {},
   "outputs": [],
   "source": [
    "#y_train = data_train['Survived'] \n",
    "x_test = data_test[['Pclass', 'Sex', 'Age', 'SibSp' , 'Parch'] ]\n",
    "\n",
    "x_train = data_train[['Pclass', 'Sex', 'Age', 'SibSp' , 'Parch'] ]"
   ]
  },
  {
   "cell_type": "code",
   "execution_count": 8,
   "metadata": {},
   "outputs": [],
   "source": [
    "x_train_male = x_train.query('Sex == 0')\n",
    "x_train_female = x_train.query('Sex == 1')"
   ]
  },
  {
   "cell_type": "code",
   "execution_count": 9,
   "metadata": {},
   "outputs": [],
   "source": [
    "y_train_male = data_train[['Survived' , 'Sex']]\n",
    "y_train_male = y_train_male.query('Sex == 0')\n",
    "y_train_male = y_train_male[['Survived']] \n",
    "\n",
    "y_train_female = data_train[['Survived' , 'Sex']]\n",
    "y_train_female = y_train_female.query('Sex == 1')\n",
    "y_train_female = y_train_female[['Survived']]"
   ]
  },
  {
   "cell_type": "code",
   "execution_count": 10,
   "metadata": {},
   "outputs": [
    {
     "output_type": "execute_result",
     "data": {
      "text/plain": "     Pclass  Sex  Age  SibSp  Parch\n0         3    0   22      1      0\n4         3    0   35      0      0\n5         3    0   24      0      0\n6         1    0   54      0      0\n7         3    0    2      3      1\n..      ...  ...  ...    ...    ...\n883       2    0   28      0      0\n884       3    0   25      0      0\n886       2    0   27      0      0\n889       1    0   26      0      0\n890       3    0   32      0      0\n\n[577 rows x 5 columns]",
      "text/html": "<div>\n<style scoped>\n    .dataframe tbody tr th:only-of-type {\n        vertical-align: middle;\n    }\n\n    .dataframe tbody tr th {\n        vertical-align: top;\n    }\n\n    .dataframe thead th {\n        text-align: right;\n    }\n</style>\n<table border=\"1\" class=\"dataframe\">\n  <thead>\n    <tr style=\"text-align: right;\">\n      <th></th>\n      <th>Pclass</th>\n      <th>Sex</th>\n      <th>Age</th>\n      <th>SibSp</th>\n      <th>Parch</th>\n    </tr>\n  </thead>\n  <tbody>\n    <tr>\n      <th>0</th>\n      <td>3</td>\n      <td>0</td>\n      <td>22</td>\n      <td>1</td>\n      <td>0</td>\n    </tr>\n    <tr>\n      <th>4</th>\n      <td>3</td>\n      <td>0</td>\n      <td>35</td>\n      <td>0</td>\n      <td>0</td>\n    </tr>\n    <tr>\n      <th>5</th>\n      <td>3</td>\n      <td>0</td>\n      <td>24</td>\n      <td>0</td>\n      <td>0</td>\n    </tr>\n    <tr>\n      <th>6</th>\n      <td>1</td>\n      <td>0</td>\n      <td>54</td>\n      <td>0</td>\n      <td>0</td>\n    </tr>\n    <tr>\n      <th>7</th>\n      <td>3</td>\n      <td>0</td>\n      <td>2</td>\n      <td>3</td>\n      <td>1</td>\n    </tr>\n    <tr>\n      <th>...</th>\n      <td>...</td>\n      <td>...</td>\n      <td>...</td>\n      <td>...</td>\n      <td>...</td>\n    </tr>\n    <tr>\n      <th>883</th>\n      <td>2</td>\n      <td>0</td>\n      <td>28</td>\n      <td>0</td>\n      <td>0</td>\n    </tr>\n    <tr>\n      <th>884</th>\n      <td>3</td>\n      <td>0</td>\n      <td>25</td>\n      <td>0</td>\n      <td>0</td>\n    </tr>\n    <tr>\n      <th>886</th>\n      <td>2</td>\n      <td>0</td>\n      <td>27</td>\n      <td>0</td>\n      <td>0</td>\n    </tr>\n    <tr>\n      <th>889</th>\n      <td>1</td>\n      <td>0</td>\n      <td>26</td>\n      <td>0</td>\n      <td>0</td>\n    </tr>\n    <tr>\n      <th>890</th>\n      <td>3</td>\n      <td>0</td>\n      <td>32</td>\n      <td>0</td>\n      <td>0</td>\n    </tr>\n  </tbody>\n</table>\n<p>577 rows × 5 columns</p>\n</div>"
     },
     "metadata": {},
     "execution_count": 10
    }
   ],
   "source": [
    "x_train_male"
   ]
  },
  {
   "cell_type": "code",
   "execution_count": 11,
   "metadata": {},
   "outputs": [],
   "source": [
    "#criando o modelo\n",
    "male_classifier = Sequential()\n",
    "\n",
    "#Input layer with 5 inputs neurons\n",
    "male_classifier.add(Dense(output_dim = 5, init = 'uniform', activation = 'relu', input_dim = 5))\n",
    "#Hidden layer\n",
    "male_classifier.add(Dense(output_dim = 5, init = 'uniform', activation = 'relu'))\n",
    "#Hidden layer\n",
    "male_classifier.add(Dense(output_dim = 5, init = 'uniform', activation = 'relu'))\n",
    "#output layer with 1 output neuron which will predict 1 or 0\n",
    "male_classifier.add(Dense(output_dim = 1, init = 'uniform', activation = 'sigmoid'))\n"
   ]
  },
  {
   "cell_type": "code",
   "execution_count": 12,
   "metadata": {},
   "outputs": [],
   "source": [
    "male_classifier.compile(optimizer = 'adam', loss = 'binary_crossentropy', metrics = ['accuracy'])\n",
    "female_classifier = male_classifier"
   ]
  },
  {
   "cell_type": "code",
   "execution_count": 13,
   "metadata": {},
   "outputs": [
    {
     "output_type": "execute_result",
     "data": {
      "text/plain": "     Pclass  Sex  Age  SibSp  Parch\n0         3    0   22      1      0\n4         3    0   35      0      0\n5         3    0   24      0      0\n6         1    0   54      0      0\n7         3    0    2      3      1\n..      ...  ...  ...    ...    ...\n883       2    0   28      0      0\n884       3    0   25      0      0\n886       2    0   27      0      0\n889       1    0   26      0      0\n890       3    0   32      0      0\n\n[577 rows x 5 columns]",
      "text/html": "<div>\n<style scoped>\n    .dataframe tbody tr th:only-of-type {\n        vertical-align: middle;\n    }\n\n    .dataframe tbody tr th {\n        vertical-align: top;\n    }\n\n    .dataframe thead th {\n        text-align: right;\n    }\n</style>\n<table border=\"1\" class=\"dataframe\">\n  <thead>\n    <tr style=\"text-align: right;\">\n      <th></th>\n      <th>Pclass</th>\n      <th>Sex</th>\n      <th>Age</th>\n      <th>SibSp</th>\n      <th>Parch</th>\n    </tr>\n  </thead>\n  <tbody>\n    <tr>\n      <th>0</th>\n      <td>3</td>\n      <td>0</td>\n      <td>22</td>\n      <td>1</td>\n      <td>0</td>\n    </tr>\n    <tr>\n      <th>4</th>\n      <td>3</td>\n      <td>0</td>\n      <td>35</td>\n      <td>0</td>\n      <td>0</td>\n    </tr>\n    <tr>\n      <th>5</th>\n      <td>3</td>\n      <td>0</td>\n      <td>24</td>\n      <td>0</td>\n      <td>0</td>\n    </tr>\n    <tr>\n      <th>6</th>\n      <td>1</td>\n      <td>0</td>\n      <td>54</td>\n      <td>0</td>\n      <td>0</td>\n    </tr>\n    <tr>\n      <th>7</th>\n      <td>3</td>\n      <td>0</td>\n      <td>2</td>\n      <td>3</td>\n      <td>1</td>\n    </tr>\n    <tr>\n      <th>...</th>\n      <td>...</td>\n      <td>...</td>\n      <td>...</td>\n      <td>...</td>\n      <td>...</td>\n    </tr>\n    <tr>\n      <th>883</th>\n      <td>2</td>\n      <td>0</td>\n      <td>28</td>\n      <td>0</td>\n      <td>0</td>\n    </tr>\n    <tr>\n      <th>884</th>\n      <td>3</td>\n      <td>0</td>\n      <td>25</td>\n      <td>0</td>\n      <td>0</td>\n    </tr>\n    <tr>\n      <th>886</th>\n      <td>2</td>\n      <td>0</td>\n      <td>27</td>\n      <td>0</td>\n      <td>0</td>\n    </tr>\n    <tr>\n      <th>889</th>\n      <td>1</td>\n      <td>0</td>\n      <td>26</td>\n      <td>0</td>\n      <td>0</td>\n    </tr>\n    <tr>\n      <th>890</th>\n      <td>3</td>\n      <td>0</td>\n      <td>32</td>\n      <td>0</td>\n      <td>0</td>\n    </tr>\n  </tbody>\n</table>\n<p>577 rows × 5 columns</p>\n</div>"
     },
     "metadata": {},
     "execution_count": 13
    }
   ],
   "source": [
    "x_train_male"
   ]
  },
  {
   "cell_type": "code",
   "execution_count": 14,
   "metadata": {
    "tags": [
     "outputPrepend",
     "outputPrepend",
     "outputPrepend",
     "outputPrepend",
     "outputPrepend",
     "outputPrepend",
     "outputPrepend",
     "outputPrepend",
     "outputPrepend",
     "outputPrepend"
    ]
   },
   "outputs": [
    {
     "output_type": "stream",
     "name": "stdout",
     "text": "Epoch 1/25\n577/577 [==============================] - 2s 3ms/step - loss: 0.6273 - accuracy: 0.8059\nEpoch 2/25\n577/577 [==============================] - 1s 1ms/step - loss: 0.4798 - accuracy: 0.8111\nEpoch 3/25\n577/577 [==============================] - 1s 1ms/step - loss: 0.4811 - accuracy: 0.8111\nEpoch 4/25\n577/577 [==============================] - 1s 1ms/step - loss: 0.4787 - accuracy: 0.8111\nEpoch 5/25\n577/577 [==============================] - 1s 1ms/step - loss: 0.4806 - accuracy: 0.8111\nEpoch 6/25\n577/577 [==============================] - 1s 1ms/step - loss: 0.4778 - accuracy: 0.8111\nEpoch 7/25\n577/577 [==============================] - 1s 1ms/step - loss: 0.4756 - accuracy: 0.8111\nEpoch 8/25\n577/577 [==============================] - 1s 2ms/step - loss: 0.4749 - accuracy: 0.8111\nEpoch 9/25\n577/577 [==============================] - 1s 1ms/step - loss: 0.4724 - accuracy: 0.8111\nEpoch 10/25\n577/577 [==============================] - 1s 1ms/step - loss: 0.4710 - accuracy: 0.8111\nEpoch 11/25\n577/577 [==============================] - 1s 1ms/step - loss: 0.4691 - accuracy: 0.8111\nEpoch 12/25\n577/577 [==============================] - 1s 1ms/step - loss: 0.4684 - accuracy: 0.8111\nEpoch 13/25\n577/577 [==============================] - 1s 2ms/step - loss: 0.4660 - accuracy: 0.8111\nEpoch 14/25\n577/577 [==============================] - 1s 1ms/step - loss: 0.4661 - accuracy: 0.8111\nEpoch 15/25\n577/577 [==============================] - 1s 1ms/step - loss: 0.4627 - accuracy: 0.8111\nEpoch 16/25\n577/577 [==============================] - 1s 1ms/step - loss: 0.4601 - accuracy: 0.8111\nEpoch 17/25\n577/577 [==============================] - 1s 1ms/step - loss: 0.4584 - accuracy: 0.8111\nEpoch 18/25\n577/577 [==============================] - 1s 1ms/step - loss: 0.4566 - accuracy: 0.8111\nEpoch 19/25\n577/577 [==============================] - 1s 1ms/step - loss: 0.4526 - accuracy: 0.8146\nEpoch 20/25\n577/577 [==============================] - 1s 1ms/step - loss: 0.4455 - accuracy: 0.8284\nEpoch 21/25\n577/577 [==============================] - 1s 1ms/step - loss: 0.4391 - accuracy: 0.8336\nEpoch 22/25\n577/577 [==============================] - 1s 2ms/step - loss: 0.4347 - accuracy: 0.8354\nEpoch 23/25\n577/577 [==============================] - 1s 1ms/step - loss: 0.4317 - accuracy: 0.8371\nEpoch 24/25\n577/577 [==============================] - 1s 1ms/step - loss: 0.4283 - accuracy: 0.8388\nEpoch 25/25\n577/577 [==============================] - 1s 1ms/step - loss: 0.4226 - accuracy: 0.8406\n"
    },
    {
     "output_type": "execute_result",
     "data": {
      "text/plain": "<keras.callbacks.callbacks.History at 0x1bfe80e9588>"
     },
     "metadata": {},
     "execution_count": 14
    }
   ],
   "source": [
    "male_classifier.fit(x_train_male, y_train_male, batch_size = 3, nb_epoch = 25)"
   ]
  },
  {
   "cell_type": "code",
   "execution_count": 15,
   "metadata": {
    "tags": [
     "outputPrepend",
     "outputPrepend",
     "outputPrepend",
     "outputPrepend",
     "outputPrepend",
     "outputPrepend",
     "outputPrepend",
     "outputPrepend",
     "outputPrepend",
     "outputPrepend",
     "outputPrepend",
     "outputPrepend",
     "outputPrepend"
    ]
   },
   "outputs": [
    {
     "output_type": "stream",
     "name": "stdout",
     "text": "Epoch 1/25\n314/314 [==============================] - 0s 1ms/step - loss: 0.6773 - accuracy: 0.6815\nEpoch 2/25\n314/314 [==============================] - 0s 1ms/step - loss: 0.5462 - accuracy: 0.7580\nEpoch 3/25\n314/314 [==============================] - 0s 1ms/step - loss: 0.5283 - accuracy: 0.7643\nEpoch 4/25\n314/314 [==============================] - 1s 2ms/step - loss: 0.5164 - accuracy: 0.7834\nEpoch 5/25\n314/314 [==============================] - 0s 1ms/step - loss: 0.5038 - accuracy: 0.7739\nEpoch 6/25\n314/314 [==============================] - 0s 1ms/step - loss: 0.4888 - accuracy: 0.7803\nEpoch 7/25\n314/314 [==============================] - 0s 1ms/step - loss: 0.4827 - accuracy: 0.7803\nEpoch 8/25\n314/314 [==============================] - 0s 1ms/step - loss: 0.4805 - accuracy: 0.7866\nEpoch 9/25\n314/314 [==============================] - 0s 1ms/step - loss: 0.4712 - accuracy: 0.7834\nEpoch 10/25\n314/314 [==============================] - 0s 1ms/step - loss: 0.4690 - accuracy: 0.7771\nEpoch 11/25\n314/314 [==============================] - 0s 1ms/step - loss: 0.4688 - accuracy: 0.7739\nEpoch 12/25\n314/314 [==============================] - 0s 1ms/step - loss: 0.4623 - accuracy: 0.7771\nEpoch 13/25\n314/314 [==============================] - 0s 1ms/step - loss: 0.4571 - accuracy: 0.7866\nEpoch 14/25\n314/314 [==============================] - 0s 1ms/step - loss: 0.4605 - accuracy: 0.7930\nEpoch 15/25\n314/314 [==============================] - 0s 1ms/step - loss: 0.4604 - accuracy: 0.7675\nEpoch 16/25\n314/314 [==============================] - 0s 1ms/step - loss: 0.4513 - accuracy: 0.7803\nEpoch 17/25\n314/314 [==============================] - 0s 1ms/step - loss: 0.4501 - accuracy: 0.7930\nEpoch 18/25\n314/314 [==============================] - 0s 1ms/step - loss: 0.4533 - accuracy: 0.7739\nEpoch 19/25\n314/314 [==============================] - 0s 1ms/step - loss: 0.4457 - accuracy: 0.7834\nEpoch 20/25\n314/314 [==============================] - 0s 1ms/step - loss: 0.4448 - accuracy: 0.7803\nEpoch 21/25\n314/314 [==============================] - 0s 1ms/step - loss: 0.4422 - accuracy: 0.7962\nEpoch 22/25\n314/314 [==============================] - 0s 1ms/step - loss: 0.4384 - accuracy: 0.7994\nEpoch 23/25\n314/314 [==============================] - 0s 1ms/step - loss: 0.4411 - accuracy: 0.7930\nEpoch 24/25\n314/314 [==============================] - 0s 1ms/step - loss: 0.4377 - accuracy: 0.7962\nEpoch 25/25\n314/314 [==============================] - 0s 1ms/step - loss: 0.4351 - accuracy: 0.8089\n"
    },
    {
     "output_type": "execute_result",
     "data": {
      "text/plain": "<keras.callbacks.callbacks.History at 0x1c0782231c8>"
     },
     "metadata": {},
     "execution_count": 15
    }
   ],
   "source": [
    "female_classifier.fit(x_train_female, y_train_female, batch_size = 3, nb_epoch = 25)"
   ]
  },
  {
   "cell_type": "code",
   "execution_count": 16,
   "metadata": {
    "tags": [
     "outputPrepend"
    ]
   },
   "outputs": [],
   "source": [
    "previsao = []\n",
    "for linha in x_test.itertuples() :\n",
    "        if linha.Sex == 0:\n",
    "                x =  pd.DataFrame(linha[1:6])\n",
    "                previsao.append(male_classifier.predict(x.T))\n",
    "        if linha.Sex == 1:\n",
    "                x =  pd.DataFrame(linha[1:6])\n",
    "                previsao.append(female_classifier.predict(x.T))\n",
    "\n",
    "\n",
    "data_check['check'] = previsao\n",
    "data_check['check'] = data_check['check'].str.get(0)\n",
    "\n",
    "series = []\n",
    "for val in data_check.check:\n",
    "    if val >= 0.5:\n",
    "        series.append(1)\n",
    "    else:\n",
    "        series.append(0)\n",
    "data_check['final'] = series"
   ]
  },
  {
   "cell_type": "code",
   "execution_count": 17,
   "metadata": {},
   "outputs": [],
   "source": [
    "data_check.to_csv('out.csv', index=False )"
   ]
  },
  {
   "cell_type": "code",
   "execution_count": 18,
   "metadata": {},
   "outputs": [
    {
     "output_type": "stream",
     "name": "stdout",
     "text": "[[ 84 175]\n [ 25 134]]\n"
    }
   ],
   "source": [
    "from sklearn.metrics import confusion_matrix\n",
    "print(confusion_matrix(data_check['Survived'], data_check['final']))"
   ]
  },
  {
   "cell_type": "code",
   "execution_count": null,
   "metadata": {},
   "outputs": [],
   "source": []
  }
 ],
 "metadata": {
  "language_info": {
   "codemirror_mode": {
    "name": "ipython",
    "version": 3
   },
   "file_extension": ".py",
   "mimetype": "text/x-python",
   "name": "python",
   "nbconvert_exporter": "python",
   "pygments_lexer": "ipython3",
   "version": "3.7.6-final"
  },
  "orig_nbformat": 2,
  "kernelspec": {
   "name": "python38032bit4c9d6fc1c70e4c37971e95771c728caa",
   "display_name": "Python 3.8.0 32-bit"
  }
 },
 "nbformat": 4,
 "nbformat_minor": 2
}