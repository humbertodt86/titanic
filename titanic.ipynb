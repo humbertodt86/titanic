{
 "cells": [
  {
   "cell_type": "code",
   "execution_count": 1,
   "metadata": {},
   "outputs": [
    {
     "output_type": "stream",
     "name": "stderr",
     "text": "Using TensorFlow backend.\n"
    }
   ],
   "source": [
    "# Importing libraries\n",
    "import pandas as pd    \n",
    "import numpy as np\n",
    "import pandas_profiling\n",
    "import keras\n",
    "from keras.models import Sequential\n",
    "from keras.layers import Dense\n",
    "\n",
    "# Reading data to Dataframes\n",
    "  \n",
    "data_train = pd.read_csv('../titanic/train.csv')\n",
    "data_test = pd.read_csv('../titanic/test.csv')\n",
    "data_check = pd.read_csv('../titanic/TITANIC_REAL_TEST.csv')"
   ]
  },
  {
   "cell_type": "code",
   "execution_count": 2,
   "metadata": {},
   "outputs": [
    {
     "output_type": "execute_result",
     "data": {
      "text/plain": "   PassengerId  Survived  Pclass  \\\n0            1         0       3   \n1            2         1       1   \n2            3         1       3   \n3            4         1       1   \n4            5         0       3   \n\n                                                Name     Sex   Age  SibSp  \\\n0                            Braund, Mr. Owen Harris    male  22.0      1   \n1  Cumings, Mrs. John Bradley (Florence Briggs Th...  female  38.0      1   \n2                             Heikkinen, Miss. Laina  female  26.0      0   \n3       Futrelle, Mrs. Jacques Heath (Lily May Peel)  female  35.0      1   \n4                           Allen, Mr. William Henry    male  35.0      0   \n\n   Parch            Ticket     Fare Cabin Embarked  \n0      0         A/5 21171   7.2500   NaN        S  \n1      0          PC 17599  71.2833   C85        C  \n2      0  STON/O2. 3101282   7.9250   NaN        S  \n3      0            113803  53.1000  C123        S  \n4      0            373450   8.0500   NaN        S  ",
      "text/html": "<div>\n<style scoped>\n    .dataframe tbody tr th:only-of-type {\n        vertical-align: middle;\n    }\n\n    .dataframe tbody tr th {\n        vertical-align: top;\n    }\n\n    .dataframe thead th {\n        text-align: right;\n    }\n</style>\n<table border=\"1\" class=\"dataframe\">\n  <thead>\n    <tr style=\"text-align: right;\">\n      <th></th>\n      <th>PassengerId</th>\n      <th>Survived</th>\n      <th>Pclass</th>\n      <th>Name</th>\n      <th>Sex</th>\n      <th>Age</th>\n      <th>SibSp</th>\n      <th>Parch</th>\n      <th>Ticket</th>\n      <th>Fare</th>\n      <th>Cabin</th>\n      <th>Embarked</th>\n    </tr>\n  </thead>\n  <tbody>\n    <tr>\n      <th>0</th>\n      <td>1</td>\n      <td>0</td>\n      <td>3</td>\n      <td>Braund, Mr. Owen Harris</td>\n      <td>male</td>\n      <td>22.0</td>\n      <td>1</td>\n      <td>0</td>\n      <td>A/5 21171</td>\n      <td>7.2500</td>\n      <td>NaN</td>\n      <td>S</td>\n    </tr>\n    <tr>\n      <th>1</th>\n      <td>2</td>\n      <td>1</td>\n      <td>1</td>\n      <td>Cumings, Mrs. John Bradley (Florence Briggs Th...</td>\n      <td>female</td>\n      <td>38.0</td>\n      <td>1</td>\n      <td>0</td>\n      <td>PC 17599</td>\n      <td>71.2833</td>\n      <td>C85</td>\n      <td>C</td>\n    </tr>\n    <tr>\n      <th>2</th>\n      <td>3</td>\n      <td>1</td>\n      <td>3</td>\n      <td>Heikkinen, Miss. Laina</td>\n      <td>female</td>\n      <td>26.0</td>\n      <td>0</td>\n      <td>0</td>\n      <td>STON/O2. 3101282</td>\n      <td>7.9250</td>\n      <td>NaN</td>\n      <td>S</td>\n    </tr>\n    <tr>\n      <th>3</th>\n      <td>4</td>\n      <td>1</td>\n      <td>1</td>\n      <td>Futrelle, Mrs. Jacques Heath (Lily May Peel)</td>\n      <td>female</td>\n      <td>35.0</td>\n      <td>1</td>\n      <td>0</td>\n      <td>113803</td>\n      <td>53.1000</td>\n      <td>C123</td>\n      <td>S</td>\n    </tr>\n    <tr>\n      <th>4</th>\n      <td>5</td>\n      <td>0</td>\n      <td>3</td>\n      <td>Allen, Mr. William Henry</td>\n      <td>male</td>\n      <td>35.0</td>\n      <td>0</td>\n      <td>0</td>\n      <td>373450</td>\n      <td>8.0500</td>\n      <td>NaN</td>\n      <td>S</td>\n    </tr>\n  </tbody>\n</table>\n</div>"
     },
     "metadata": {},
     "execution_count": 2
    }
   ],
   "source": [
    "data_train.head()\n"
   ]
  },
  {
   "cell_type": "code",
   "execution_count": 3,
   "metadata": {},
   "outputs": [],
   "source": [
    "\n",
    "#preenchendo valores faltantes com a média\n",
    "values = {'Age': data_train.Age.mode()[0]}\n",
    "data_train.fillna(value = values, inplace = True)\n",
    "\n",
    "values = {'Age': data_test.Age.mode()[0]}\n",
    "data_test.fillna(value = values, inplace = True)\n",
    "\n",
    "#mudando o tipo de dado\n",
    "data_train.Sex = data_train.Sex.astype('category')\n",
    "data_train.Age = data_train.Age.astype('int32')\n",
    "\n",
    "data_test.Sex = data_test.Sex.astype('category')\n",
    "data_test.Age = data_test.Age.astype('int32')"
   ]
  },
  {
   "cell_type": "code",
   "execution_count": 4,
   "metadata": {},
   "outputs": [],
   "source": [
    "data_train = data_train.drop(['Name','Ticket','Fare','Cabin','Embarked'],axis =1)\n",
    "\n",
    "data_test = data_test.drop(['Name','Ticket','Fare','Cabin','Embarked'],axis =1)"
   ]
  },
  {
   "cell_type": "code",
   "execution_count": 5,
   "metadata": {},
   "outputs": [],
   "source": [
    "# create dummies for pitching team, batting team, pitcher id, batter id\n",
    "#0 para masculino e 1 para feminino\n",
    "dummies = pd.get_dummies(data_train['Sex'])\n",
    "data_train['Sex'] = dummies\n",
    "\n",
    "\n",
    "dummies = pd.get_dummies(data_test['Sex'])\n",
    "data_test['Sex'] = dummies\n"
   ]
  },
  {
   "cell_type": "code",
   "execution_count": 6,
   "metadata": {},
   "outputs": [
    {
     "output_type": "execute_result",
     "data": {
      "text/plain": "   PassengerId  Survived  Pclass  Sex  Age  SibSp  Parch\n0            1         0       3    0   22      1      0\n1            2         1       1    1   38      1      0\n2            3         1       3    1   26      0      0\n3            4         1       1    1   35      1      0\n4            5         0       3    0   35      0      0",
      "text/html": "<div>\n<style scoped>\n    .dataframe tbody tr th:only-of-type {\n        vertical-align: middle;\n    }\n\n    .dataframe tbody tr th {\n        vertical-align: top;\n    }\n\n    .dataframe thead th {\n        text-align: right;\n    }\n</style>\n<table border=\"1\" class=\"dataframe\">\n  <thead>\n    <tr style=\"text-align: right;\">\n      <th></th>\n      <th>PassengerId</th>\n      <th>Survived</th>\n      <th>Pclass</th>\n      <th>Sex</th>\n      <th>Age</th>\n      <th>SibSp</th>\n      <th>Parch</th>\n    </tr>\n  </thead>\n  <tbody>\n    <tr>\n      <th>0</th>\n      <td>1</td>\n      <td>0</td>\n      <td>3</td>\n      <td>0</td>\n      <td>22</td>\n      <td>1</td>\n      <td>0</td>\n    </tr>\n    <tr>\n      <th>1</th>\n      <td>2</td>\n      <td>1</td>\n      <td>1</td>\n      <td>1</td>\n      <td>38</td>\n      <td>1</td>\n      <td>0</td>\n    </tr>\n    <tr>\n      <th>2</th>\n      <td>3</td>\n      <td>1</td>\n      <td>3</td>\n      <td>1</td>\n      <td>26</td>\n      <td>0</td>\n      <td>0</td>\n    </tr>\n    <tr>\n      <th>3</th>\n      <td>4</td>\n      <td>1</td>\n      <td>1</td>\n      <td>1</td>\n      <td>35</td>\n      <td>1</td>\n      <td>0</td>\n    </tr>\n    <tr>\n      <th>4</th>\n      <td>5</td>\n      <td>0</td>\n      <td>3</td>\n      <td>0</td>\n      <td>35</td>\n      <td>0</td>\n      <td>0</td>\n    </tr>\n  </tbody>\n</table>\n</div>"
     },
     "metadata": {},
     "execution_count": 6
    }
   ],
   "source": [
    "data_train.head()"
   ]
  },
  {
   "cell_type": "code",
   "execution_count": 7,
   "metadata": {},
   "outputs": [],
   "source": [
    "y_train = data_train['Survived'] \n",
    "x_test = data_test[['Pclass', 'Sex', 'Age', 'SibSp' , 'Parch'] ]\n",
    "\n",
    "x_train = data_train[['Pclass', 'Sex', 'Age', 'SibSp' , 'Parch'] ]"
   ]
  },
  {
   "cell_type": "code",
   "execution_count": 8,
   "metadata": {},
   "outputs": [
    {
     "output_type": "execute_result",
     "data": {
      "text/plain": "     Pclass  Sex  Age  SibSp  Parch\n0         3    0   34      0      0\n1         3    1   47      1      0\n2         2    0   62      0      0\n3         3    0   27      0      0\n4         3    1   22      1      1\n..      ...  ...  ...    ...    ...\n413       3    0   21      0      0\n414       1    1   39      0      0\n415       3    0   38      0      0\n416       3    0   21      0      0\n417       3    0   21      1      1\n\n[418 rows x 5 columns]",
      "text/html": "<div>\n<style scoped>\n    .dataframe tbody tr th:only-of-type {\n        vertical-align: middle;\n    }\n\n    .dataframe tbody tr th {\n        vertical-align: top;\n    }\n\n    .dataframe thead th {\n        text-align: right;\n    }\n</style>\n<table border=\"1\" class=\"dataframe\">\n  <thead>\n    <tr style=\"text-align: right;\">\n      <th></th>\n      <th>Pclass</th>\n      <th>Sex</th>\n      <th>Age</th>\n      <th>SibSp</th>\n      <th>Parch</th>\n    </tr>\n  </thead>\n  <tbody>\n    <tr>\n      <th>0</th>\n      <td>3</td>\n      <td>0</td>\n      <td>34</td>\n      <td>0</td>\n      <td>0</td>\n    </tr>\n    <tr>\n      <th>1</th>\n      <td>3</td>\n      <td>1</td>\n      <td>47</td>\n      <td>1</td>\n      <td>0</td>\n    </tr>\n    <tr>\n      <th>2</th>\n      <td>2</td>\n      <td>0</td>\n      <td>62</td>\n      <td>0</td>\n      <td>0</td>\n    </tr>\n    <tr>\n      <th>3</th>\n      <td>3</td>\n      <td>0</td>\n      <td>27</td>\n      <td>0</td>\n      <td>0</td>\n    </tr>\n    <tr>\n      <th>4</th>\n      <td>3</td>\n      <td>1</td>\n      <td>22</td>\n      <td>1</td>\n      <td>1</td>\n    </tr>\n    <tr>\n      <th>...</th>\n      <td>...</td>\n      <td>...</td>\n      <td>...</td>\n      <td>...</td>\n      <td>...</td>\n    </tr>\n    <tr>\n      <th>413</th>\n      <td>3</td>\n      <td>0</td>\n      <td>21</td>\n      <td>0</td>\n      <td>0</td>\n    </tr>\n    <tr>\n      <th>414</th>\n      <td>1</td>\n      <td>1</td>\n      <td>39</td>\n      <td>0</td>\n      <td>0</td>\n    </tr>\n    <tr>\n      <th>415</th>\n      <td>3</td>\n      <td>0</td>\n      <td>38</td>\n      <td>0</td>\n      <td>0</td>\n    </tr>\n    <tr>\n      <th>416</th>\n      <td>3</td>\n      <td>0</td>\n      <td>21</td>\n      <td>0</td>\n      <td>0</td>\n    </tr>\n    <tr>\n      <th>417</th>\n      <td>3</td>\n      <td>0</td>\n      <td>21</td>\n      <td>1</td>\n      <td>1</td>\n    </tr>\n  </tbody>\n</table>\n<p>418 rows × 5 columns</p>\n</div>"
     },
     "metadata": {},
     "execution_count": 8
    }
   ],
   "source": [
    "x_test"
   ]
  },
  {
   "cell_type": "code",
   "execution_count": 9,
   "metadata": {},
   "outputs": [],
   "source": [
    "#criando o modelo\n",
    "classifier = Sequential()\n",
    "\n",
    "#Input layer with 5 inputs neurons\n",
    "classifier.add(Dense(output_dim = 5, init = 'uniform', activation = 'relu', input_dim = 5))\n",
    "#Hidden layer\n",
    "classifier.add(Dense(output_dim = 5, init = 'uniform', activation = 'relu'))\n",
    "#output layer with 1 output neuron which will predict 1 or 0\n",
    "classifier.add(Dense(output_dim = 1, init = 'uniform', activation = 'sigmoid'))\n"
   ]
  },
  {
   "cell_type": "code",
   "execution_count": 10,
   "metadata": {},
   "outputs": [],
   "source": [
    "classifier.compile(optimizer = 'adam', loss = 'binary_crossentropy', metrics = ['accuracy'])"
   ]
  },
  {
   "cell_type": "code",
   "execution_count": 11,
   "metadata": {},
   "outputs": [
    {
     "output_type": "execute_result",
     "data": {
      "text/plain": "     Pclass  Sex  Age  SibSp  Parch\n0         3    0   22      1      0\n1         1    1   38      1      0\n2         3    1   26      0      0\n3         1    1   35      1      0\n4         3    0   35      0      0\n..      ...  ...  ...    ...    ...\n886       2    0   27      0      0\n887       1    1   19      0      0\n888       3    1   24      1      2\n889       1    0   26      0      0\n890       3    0   32      0      0\n\n[891 rows x 5 columns]",
      "text/html": "<div>\n<style scoped>\n    .dataframe tbody tr th:only-of-type {\n        vertical-align: middle;\n    }\n\n    .dataframe tbody tr th {\n        vertical-align: top;\n    }\n\n    .dataframe thead th {\n        text-align: right;\n    }\n</style>\n<table border=\"1\" class=\"dataframe\">\n  <thead>\n    <tr style=\"text-align: right;\">\n      <th></th>\n      <th>Pclass</th>\n      <th>Sex</th>\n      <th>Age</th>\n      <th>SibSp</th>\n      <th>Parch</th>\n    </tr>\n  </thead>\n  <tbody>\n    <tr>\n      <th>0</th>\n      <td>3</td>\n      <td>0</td>\n      <td>22</td>\n      <td>1</td>\n      <td>0</td>\n    </tr>\n    <tr>\n      <th>1</th>\n      <td>1</td>\n      <td>1</td>\n      <td>38</td>\n      <td>1</td>\n      <td>0</td>\n    </tr>\n    <tr>\n      <th>2</th>\n      <td>3</td>\n      <td>1</td>\n      <td>26</td>\n      <td>0</td>\n      <td>0</td>\n    </tr>\n    <tr>\n      <th>3</th>\n      <td>1</td>\n      <td>1</td>\n      <td>35</td>\n      <td>1</td>\n      <td>0</td>\n    </tr>\n    <tr>\n      <th>4</th>\n      <td>3</td>\n      <td>0</td>\n      <td>35</td>\n      <td>0</td>\n      <td>0</td>\n    </tr>\n    <tr>\n      <th>...</th>\n      <td>...</td>\n      <td>...</td>\n      <td>...</td>\n      <td>...</td>\n      <td>...</td>\n    </tr>\n    <tr>\n      <th>886</th>\n      <td>2</td>\n      <td>0</td>\n      <td>27</td>\n      <td>0</td>\n      <td>0</td>\n    </tr>\n    <tr>\n      <th>887</th>\n      <td>1</td>\n      <td>1</td>\n      <td>19</td>\n      <td>0</td>\n      <td>0</td>\n    </tr>\n    <tr>\n      <th>888</th>\n      <td>3</td>\n      <td>1</td>\n      <td>24</td>\n      <td>1</td>\n      <td>2</td>\n    </tr>\n    <tr>\n      <th>889</th>\n      <td>1</td>\n      <td>0</td>\n      <td>26</td>\n      <td>0</td>\n      <td>0</td>\n    </tr>\n    <tr>\n      <th>890</th>\n      <td>3</td>\n      <td>0</td>\n      <td>32</td>\n      <td>0</td>\n      <td>0</td>\n    </tr>\n  </tbody>\n</table>\n<p>891 rows × 5 columns</p>\n</div>"
     },
     "metadata": {},
     "execution_count": 11
    }
   ],
   "source": [
    "x_train"
   ]
  },
  {
   "cell_type": "code",
   "execution_count": 12,
   "metadata": {},
   "outputs": [
    {
     "output_type": "stream",
     "name": "stdout",
     "text": "Epoch 1/50\n891/891 [==============================] - 1s 2ms/step - loss: 0.6818 - accuracy: 0.6128\nEpoch 2/50\n891/891 [==============================] - 1s 1ms/step - loss: 0.6578 - accuracy: 0.6162\nEpoch 3/50\n891/891 [==============================] - 1s 1ms/step - loss: 0.6404 - accuracy: 0.6162\nEpoch 4/50\n891/891 [==============================] - 1s 1ms/step - loss: 0.5935 - accuracy: 0.6162\nEpoch 5/50\n891/891 [==============================] - 1s 1ms/step - loss: 0.5554 - accuracy: 0.6566\nEpoch 6/50\n891/891 [==============================] - 1s 1ms/step - loss: 0.5393 - accuracy: 0.7666\nEpoch 7/50\n891/891 [==============================] - 1s 2ms/step - loss: 0.5243 - accuracy: 0.7890\nEpoch 8/50\n891/891 [==============================] - 1s 1ms/step - loss: 0.5163 - accuracy: 0.7912\nEpoch 9/50\n891/891 [==============================] - 1s 2ms/step - loss: 0.4880 - accuracy: 0.8013\nEpoch 10/50\n891/891 [==============================] - 1s 1ms/step - loss: 0.4658 - accuracy: 0.8025\nEpoch 11/50\n891/891 [==============================] - 1s 1ms/step - loss: 0.4611 - accuracy: 0.8013\nEpoch 12/50\n891/891 [==============================] - 1s 1ms/step - loss: 0.4553 - accuracy: 0.8036\nEpoch 13/50\n891/891 [==============================] - 1s 990us/step - loss: 0.4539 - accuracy: 0.7980\nEpoch 14/50\n891/891 [==============================] - 1s 1ms/step - loss: 0.4471 - accuracy: 0.8047\nEpoch 15/50\n891/891 [==============================] - 1s 1ms/step - loss: 0.4474 - accuracy: 0.8047\nEpoch 16/50\n891/891 [==============================] - 1s 1ms/step - loss: 0.4462 - accuracy: 0.8025\nEpoch 17/50\n891/891 [==============================] - 1s 1ms/step - loss: 0.4414 - accuracy: 0.8103\nEpoch 18/50\n891/891 [==============================] - 1s 1ms/step - loss: 0.4424 - accuracy: 0.8047\nEpoch 19/50\n891/891 [==============================] - 1s 1ms/step - loss: 0.4422 - accuracy: 0.8103\nEpoch 20/50\n891/891 [==============================] - 1s 1ms/step - loss: 0.4404 - accuracy: 0.8070\nEpoch 21/50\n891/891 [==============================] - 1s 1ms/step - loss: 0.4392 - accuracy: 0.8047\nEpoch 22/50\n891/891 [==============================] - 1s 1ms/step - loss: 0.4390 - accuracy: 0.8081\nEpoch 23/50\n891/891 [==============================] - 1s 994us/step - loss: 0.4357 - accuracy: 0.8070\nEpoch 24/50\n891/891 [==============================] - 1s 1ms/step - loss: 0.4336 - accuracy: 0.8137\nEpoch 25/50\n891/891 [==============================] - 1s 1ms/step - loss: 0.4343 - accuracy: 0.8159\nEpoch 26/50\n891/891 [==============================] - 1s 1ms/step - loss: 0.4351 - accuracy: 0.8025\nEpoch 27/50\n891/891 [==============================] - 1s 1ms/step - loss: 0.4331 - accuracy: 0.8126\nEpoch 28/50\n891/891 [==============================] - 1s 1ms/step - loss: 0.4313 - accuracy: 0.8148\nEpoch 29/50\n891/891 [==============================] - 1s 1ms/step - loss: 0.4310 - accuracy: 0.8137\nEpoch 30/50\n891/891 [==============================] - 1s 1ms/step - loss: 0.4315 - accuracy: 0.8137\nEpoch 31/50\n891/891 [==============================] - 1s 1ms/step - loss: 0.4268 - accuracy: 0.8148\nEpoch 32/50\n891/891 [==============================] - 1s 1ms/step - loss: 0.4311 - accuracy: 0.8058\nEpoch 33/50\n891/891 [==============================] - 1s 1ms/step - loss: 0.4315 - accuracy: 0.8159\nEpoch 34/50\n891/891 [==============================] - 1s 1ms/step - loss: 0.4303 - accuracy: 0.8070\nEpoch 35/50\n891/891 [==============================] - 1s 1ms/step - loss: 0.4304 - accuracy: 0.8171\nEpoch 36/50\n891/891 [==============================] - 1s 1ms/step - loss: 0.4239 - accuracy: 0.8148\nEpoch 37/50\n891/891 [==============================] - 1s 1ms/step - loss: 0.4288 - accuracy: 0.8126\nEpoch 38/50\n891/891 [==============================] - 1s 1ms/step - loss: 0.4328 - accuracy: 0.8103\nEpoch 39/50\n891/891 [==============================] - 1s 1ms/step - loss: 0.4301 - accuracy: 0.8114\nEpoch 40/50\n891/891 [==============================] - 1s 1ms/step - loss: 0.4264 - accuracy: 0.8114\nEpoch 41/50\n891/891 [==============================] - 1s 1ms/step - loss: 0.4296 - accuracy: 0.8182\nEpoch 42/50\n891/891 [==============================] - 1s 1ms/step - loss: 0.4277 - accuracy: 0.8171\nEpoch 43/50\n891/891 [==============================] - 1s 1ms/step - loss: 0.4303 - accuracy: 0.8114\nEpoch 44/50\n891/891 [==============================] - 1s 1ms/step - loss: 0.4283 - accuracy: 0.8204\nEpoch 45/50\n891/891 [==============================] - 1s 1ms/step - loss: 0.4311 - accuracy: 0.8182\nEpoch 46/50\n891/891 [==============================] - 1s 1ms/step - loss: 0.4279 - accuracy: 0.8159\nEpoch 47/50\n891/891 [==============================] - 1s 1ms/step - loss: 0.4283 - accuracy: 0.8193\nEpoch 48/50\n891/891 [==============================] - 1s 1ms/step - loss: 0.4267 - accuracy: 0.8171\nEpoch 49/50\n891/891 [==============================] - 1s 1ms/step - loss: 0.4259 - accuracy: 0.8171\nEpoch 50/50\n891/891 [==============================] - 1s 1ms/step - loss: 0.4271 - accuracy: 0.8204\n"
    },
    {
     "output_type": "execute_result",
     "data": {
      "text/plain": "<keras.callbacks.callbacks.History at 0x24dc59602c8>"
     },
     "metadata": {},
     "execution_count": 12
    }
   ],
   "source": [
    "classifier.fit(x_train, y_train, batch_size = 3, nb_epoch = 50)"
   ]
  },
  {
   "cell_type": "code",
   "execution_count": 13,
   "metadata": {},
   "outputs": [],
   "source": [
    "#getting predictions of test data\n",
    "prediction = classifier.predict(x_test).tolist()\n",
    "# list to series\n",
    "se = pd.Series(prediction)\n",
    "\n",
    "\n",
    "# creating new column of predictions in data_check dataframe\n",
    "data_check['check'] = se\n",
    "data_check['check'] = data_check['check'].str.get(0)\n",
    "\n",
    "series = []\n",
    "for val in data_check.check:\n",
    "    if val >= 0.5:\n",
    "        series.append(1)\n",
    "    else:\n",
    "        series.append(0)\n",
    "data_check['final'] = series"
   ]
  },
  {
   "cell_type": "code",
   "execution_count": 14,
   "metadata": {},
   "outputs": [
    {
     "output_type": "execute_result",
     "data": {
      "text/plain": "     PassengerId  Survived     check  final\n0            892         0  0.062530      0\n1            893         1  0.411181      0\n2            894         0  0.053704      0\n3            895         0  0.105596      0\n4            896         1  0.482714      0\n..           ...       ...       ...    ...\n413         1305         0  0.161500      0\n414         1306         1  0.970194      1\n415         1307         0  0.045921      0\n416         1308         0  0.161500      0\n417         1309         1  0.127728      0\n\n[418 rows x 4 columns]",
      "text/html": "<div>\n<style scoped>\n    .dataframe tbody tr th:only-of-type {\n        vertical-align: middle;\n    }\n\n    .dataframe tbody tr th {\n        vertical-align: top;\n    }\n\n    .dataframe thead th {\n        text-align: right;\n    }\n</style>\n<table border=\"1\" class=\"dataframe\">\n  <thead>\n    <tr style=\"text-align: right;\">\n      <th></th>\n      <th>PassengerId</th>\n      <th>Survived</th>\n      <th>check</th>\n      <th>final</th>\n    </tr>\n  </thead>\n  <tbody>\n    <tr>\n      <th>0</th>\n      <td>892</td>\n      <td>0</td>\n      <td>0.062530</td>\n      <td>0</td>\n    </tr>\n    <tr>\n      <th>1</th>\n      <td>893</td>\n      <td>1</td>\n      <td>0.411181</td>\n      <td>0</td>\n    </tr>\n    <tr>\n      <th>2</th>\n      <td>894</td>\n      <td>0</td>\n      <td>0.053704</td>\n      <td>0</td>\n    </tr>\n    <tr>\n      <th>3</th>\n      <td>895</td>\n      <td>0</td>\n      <td>0.105596</td>\n      <td>0</td>\n    </tr>\n    <tr>\n      <th>4</th>\n      <td>896</td>\n      <td>1</td>\n      <td>0.482714</td>\n      <td>0</td>\n    </tr>\n    <tr>\n      <th>...</th>\n      <td>...</td>\n      <td>...</td>\n      <td>...</td>\n      <td>...</td>\n    </tr>\n    <tr>\n      <th>413</th>\n      <td>1305</td>\n      <td>0</td>\n      <td>0.161500</td>\n      <td>0</td>\n    </tr>\n    <tr>\n      <th>414</th>\n      <td>1306</td>\n      <td>1</td>\n      <td>0.970194</td>\n      <td>1</td>\n    </tr>\n    <tr>\n      <th>415</th>\n      <td>1307</td>\n      <td>0</td>\n      <td>0.045921</td>\n      <td>0</td>\n    </tr>\n    <tr>\n      <th>416</th>\n      <td>1308</td>\n      <td>0</td>\n      <td>0.161500</td>\n      <td>0</td>\n    </tr>\n    <tr>\n      <th>417</th>\n      <td>1309</td>\n      <td>1</td>\n      <td>0.127728</td>\n      <td>0</td>\n    </tr>\n  </tbody>\n</table>\n<p>418 rows × 4 columns</p>\n</div>"
     },
     "metadata": {},
     "execution_count": 14
    }
   ],
   "source": [
    "data_check"
   ]
  },
  {
   "cell_type": "code",
   "execution_count": 15,
   "metadata": {},
   "outputs": [
    {
     "output_type": "execute_result",
     "data": {
      "text/plain": "0      0\n1      1\n2      0\n3      0\n4      1\n      ..\n413    0\n414    1\n415    0\n416    0\n417    1\nName: Survived, Length: 418, dtype: int64"
     },
     "metadata": {},
     "execution_count": 15
    }
   ],
   "source": [
    "data_check['Survived']"
   ]
  },
  {
   "cell_type": "code",
   "execution_count": 16,
   "metadata": {},
   "outputs": [
    {
     "output_type": "stream",
     "name": "stdout",
     "text": "[[221  38]\n [ 57 102]]\n"
    }
   ],
   "source": [
    "from sklearn.metrics import confusion_matrix\n",
    "print(confusion_matrix(data_check['Survived'], data_check['final']))"
   ]
  },
  {
   "cell_type": "code",
   "execution_count": null,
   "metadata": {},
   "outputs": [],
   "source": []
  }
 ],
 "metadata": {
  "language_info": {
   "codemirror_mode": {
    "name": "ipython",
    "version": 3
   },
   "file_extension": ".py",
   "mimetype": "text/x-python",
   "name": "python",
   "nbconvert_exporter": "python",
   "pygments_lexer": "ipython3",
   "version": "3.7.6-final"
  },
  "orig_nbformat": 2,
  "kernelspec": {
   "name": "python38032bit4c9d6fc1c70e4c37971e95771c728caa",
   "display_name": "Python 3.8.0 32-bit"
  }
 },
 "nbformat": 4,
 "nbformat_minor": 2
}